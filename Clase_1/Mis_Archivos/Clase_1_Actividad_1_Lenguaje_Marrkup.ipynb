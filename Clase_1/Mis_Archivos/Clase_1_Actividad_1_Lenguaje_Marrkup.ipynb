{
  "nbformat": 4,
  "nbformat_minor": 0,
  "metadata": {
    "colab": {
      "provenance": [],
      "include_colab_link": true
    },
    "kernelspec": {
      "name": "python3",
      "display_name": "Python 3"
    },
    "language_info": {
      "name": "python"
    }
  },
  "cells": [
    {
      "cell_type": "markdown",
      "metadata": {
        "id": "view-in-github",
        "colab_type": "text"
      },
      "source": [
        "<a href=\"https://colab.research.google.com/github/FerJGit/TT-2C2025-Data-Analitycs-Notebooks/blob/main/Clase_1/Mis_Archivos/Clase_1_Actividad_1_Lenguaje_Markup.ipynb\" target=\"_parent\"><img src=\"https://colab.research.google.com/assets/colab-badge.svg\" alt=\"Open In Colab\"/></a>"
      ]
    },
    {
      "cell_type": "markdown",
      "source": [
        "# Actividades"
      ],
      "metadata": {
        "id": "gCJoH7KuEUga"
      }
    },
    {
      "cell_type": "code",
      "source": [],
      "metadata": {
        "id": "b_CN20d0Z0UK"
      },
      "execution_count": null,
      "outputs": []
    },
    {
      "cell_type": "markdown",
      "source": [
        "## Actividad 1"
      ],
      "metadata": {
        "id": "NHa-sP3zJ8Db"
      }
    },
    {
      "cell_type": "markdown",
      "source": [
        "  Creá tu propio bloque de texto. Utiliza:\n",
        "  - formatos de texto\n",
        "  - links\n",
        "  - al menos una imagen de tu carpeta Drive"
      ],
      "metadata": {
        "id": "ZlSXlWj4KAZZ"
      }
    },
    {
      "cell_type": "markdown",
      "source": [
        "## Actividad 2"
      ],
      "metadata": {
        "id": "LTFeKV5uKDPK"
      }
    },
    {
      "cell_type": "markdown",
      "source": [
        "Creá un bloque de código con un programa que pida un número por teclado, y responda si es par o impar. Ejecutalo."
      ],
      "metadata": {
        "id": "NfVvRVxMKUu8"
      }
    },
    {
      "cell_type": "markdown",
      "source": [
        "# **ACTIVIDAD 1 - TT252813 - Data Analytics con Python**\n",
        "Esta es una prueba de texto para la ***Actividad 1*** en *Colab* 💪💪💪\n",
        "\n",
        "### Presione este [**link**](https://tt-252813-data-analytics.vercel.app/#/semana1) para ver la página del curso\n",
        "\n",
        "Imagen\n",
        "\n",
        "<img src=\"https://drive.google.com/uc?id=1c4l8h2Apnp-07ehgmJrO2v-znI7tuVNs\" width=400px height=300px>\n",
        "\n",
        "\n"
      ],
      "metadata": {
        "id": "zR_wbzRtTLe0"
      }
    },
    {
      "cell_type": "code",
      "source": [
        "num = input(\"Ingrese un número entero mayor o igual que 0: \")\n",
        "\n",
        "if num.isdigit():\n",
        "  if(int(num) % 2 == 0):\n",
        "    print(f\"{num} es par\")\n",
        "  else:\n",
        "    print(f\"{num} es impar\")\n",
        "else:\n",
        "  print(\"Debe ser un número entero mayor o igual que 0\")"
      ],
      "metadata": {
        "colab": {
          "base_uri": "https://localhost:8080/"
        },
        "id": "GT-Vb_0rZ3Mx",
        "outputId": "071a2adf-c634-416d-f3f2-5e1cd738e759"
      },
      "execution_count": 9,
      "outputs": [
        {
          "output_type": "stream",
          "name": "stdout",
          "text": [
            "Ingrese un número entero mayor o igual que 0: 1**2\n",
            "Debe ser un número entero mayor o igual que 0\n"
          ]
        }
      ]
    }
  ]
}
